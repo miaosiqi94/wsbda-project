{
 "cells": [
  {
   "cell_type": "code",
   "execution_count": 1,
   "metadata": {
    "collapsed": true
   },
   "outputs": [],
   "source": [
    "import numpy as np"
   ]
  },
  {
   "cell_type": "code",
   "execution_count": 2,
   "metadata": {
    "collapsed": true
   },
   "outputs": [],
   "source": [
    "import pandas as pd"
   ]
  },
  {
   "cell_type": "code",
   "execution_count": 3,
   "metadata": {
    "collapsed": true
   },
   "outputs": [],
   "source": [
    "import math\n",
    "from ipykernel import kernelapp as app\n",
    "import sys\n",
    "import seaborn as sns"
   ]
  },
  {
   "cell_type": "code",
   "execution_count": 4,
   "metadata": {
    "collapsed": true
   },
   "outputs": [],
   "source": [
    "data = pd.read_csv('easyjet.csv')"
   ]
  },
  {
   "cell_type": "code",
   "execution_count": 5,
   "metadata": {},
   "outputs": [
    {
     "data": {
      "text/html": [
       "<div>\n",
       "<style>\n",
       "    .dataframe thead tr:only-child th {\n",
       "        text-align: right;\n",
       "    }\n",
       "\n",
       "    .dataframe thead th {\n",
       "        text-align: left;\n",
       "    }\n",
       "\n",
       "    .dataframe tbody tr th {\n",
       "        vertical-align: top;\n",
       "    }\n",
       "</style>\n",
       "<table border=\"1\" class=\"dataframe\">\n",
       "  <thead>\n",
       "    <tr style=\"text-align: right;\">\n",
       "      <th></th>\n",
       "      <th>Source</th>\n",
       "      <th>Target</th>\n",
       "    </tr>\n",
       "  </thead>\n",
       "  <tbody>\n",
       "    <tr>\n",
       "      <th>0</th>\n",
       "      <td>ABZ</td>\n",
       "      <td>LTN</td>\n",
       "    </tr>\n",
       "    <tr>\n",
       "      <th>1</th>\n",
       "      <td>ACE</td>\n",
       "      <td>LGW</td>\n",
       "    </tr>\n",
       "    <tr>\n",
       "      <th>2</th>\n",
       "      <td>ACE</td>\n",
       "      <td>LPL</td>\n",
       "    </tr>\n",
       "    <tr>\n",
       "      <th>3</th>\n",
       "      <td>ACE</td>\n",
       "      <td>MAD</td>\n",
       "    </tr>\n",
       "    <tr>\n",
       "      <th>4</th>\n",
       "      <td>AGA</td>\n",
       "      <td>CDG</td>\n",
       "    </tr>\n",
       "  </tbody>\n",
       "</table>\n",
       "</div>"
      ],
      "text/plain": [
       "  Source Target\n",
       "0    ABZ    LTN\n",
       "1    ACE    LGW\n",
       "2    ACE    LPL\n",
       "3    ACE    MAD\n",
       "4    AGA    CDG"
      ]
     },
     "execution_count": 5,
     "metadata": {},
     "output_type": "execute_result"
    }
   ],
   "source": [
    "data.head()"
   ]
  },
  {
   "cell_type": "code",
   "execution_count": 6,
   "metadata": {
    "collapsed": true
   },
   "outputs": [],
   "source": [
    "airports=pd.read_csv('airportscsv.csv')"
   ]
  },
  {
   "cell_type": "code",
   "execution_count": 7,
   "metadata": {},
   "outputs": [
    {
     "data": {
      "text/plain": [
       "False"
      ]
     },
     "execution_count": 7,
     "metadata": {},
     "output_type": "execute_result"
    }
   ],
   "source": [
    "'ZAZ' in data.Source.values"
   ]
  },
  {
   "cell_type": "code",
   "execution_count": 8,
   "metadata": {},
   "outputs": [
    {
     "data": {
      "text/html": [
       "<div>\n",
       "<style>\n",
       "    .dataframe thead tr:only-child th {\n",
       "        text-align: right;\n",
       "    }\n",
       "\n",
       "    .dataframe thead th {\n",
       "        text-align: left;\n",
       "    }\n",
       "\n",
       "    .dataframe tbody tr th {\n",
       "        vertical-align: top;\n",
       "    }\n",
       "</style>\n",
       "<table border=\"1\" class=\"dataframe\">\n",
       "  <thead>\n",
       "    <tr style=\"text-align: right;\">\n",
       "      <th></th>\n",
       "      <th>id</th>\n",
       "      <th>Latitude</th>\n",
       "      <th>Longitude</th>\n",
       "    </tr>\n",
       "  </thead>\n",
       "  <tbody>\n",
       "    <tr>\n",
       "      <th>0</th>\n",
       "      <td>GKA</td>\n",
       "      <td>-6.081689</td>\n",
       "      <td>145.391881</td>\n",
       "    </tr>\n",
       "    <tr>\n",
       "      <th>1</th>\n",
       "      <td>MAG</td>\n",
       "      <td>-5.207083</td>\n",
       "      <td>145.788700</td>\n",
       "    </tr>\n",
       "    <tr>\n",
       "      <th>2</th>\n",
       "      <td>HGU</td>\n",
       "      <td>-5.826789</td>\n",
       "      <td>144.295861</td>\n",
       "    </tr>\n",
       "    <tr>\n",
       "      <th>3</th>\n",
       "      <td>LAE</td>\n",
       "      <td>-6.569828</td>\n",
       "      <td>146.726242</td>\n",
       "    </tr>\n",
       "    <tr>\n",
       "      <th>4</th>\n",
       "      <td>POM</td>\n",
       "      <td>-9.443383</td>\n",
       "      <td>147.220050</td>\n",
       "    </tr>\n",
       "  </tbody>\n",
       "</table>\n",
       "</div>"
      ],
      "text/plain": [
       "    id  Latitude   Longitude\n",
       "0  GKA -6.081689  145.391881\n",
       "1  MAG -5.207083  145.788700\n",
       "2  HGU -5.826789  144.295861\n",
       "3  LAE -6.569828  146.726242\n",
       "4  POM -9.443383  147.220050"
      ]
     },
     "execution_count": 8,
     "metadata": {},
     "output_type": "execute_result"
    }
   ],
   "source": [
    "airports.head()"
   ]
  },
  {
   "cell_type": "code",
   "execution_count": 9,
   "metadata": {
    "collapsed": true
   },
   "outputs": [],
   "source": [
    "def airport_id_exist(airport):\n",
    "    if airport['id'] in data.Source.values:\n",
    "        #  or airport['id'] in data.Target.values\n",
    "        return True\n",
    "    else:\n",
    "        return False"
   ]
  },
  {
   "cell_type": "code",
   "execution_count": 10,
   "metadata": {},
   "outputs": [
    {
     "data": {
      "text/plain": [
       "list"
      ]
     },
     "execution_count": 10,
     "metadata": {},
     "output_type": "execute_result"
    }
   ],
   "source": [
    "type(data.Source.values.tolist())"
   ]
  },
  {
   "cell_type": "code",
   "execution_count": null,
   "metadata": {
    "collapsed": true
   },
   "outputs": [],
   "source": []
  },
  {
   "cell_type": "code",
   "execution_count": 11,
   "metadata": {
    "collapsed": true
   },
   "outputs": [],
   "source": [
    "existed_airports_set = set(data.Source.values.tolist() + data.Target.values.tolist())"
   ]
  },
  {
   "cell_type": "code",
   "execution_count": 12,
   "metadata": {},
   "outputs": [
    {
     "name": "stdout",
     "output_type": "stream",
     "text": [
      "106\n",
      "{'ORY', 'TFS', 'ZAG', 'MPL', 'MJV', 'EDI', 'PFO', 'BOD', 'LBA', 'BFS', 'VLC', 'LPL', 'SAW', 'JER', 'NTE', 'MLA', 'AGA', 'AMS', 'PSA', 'FAO', 'LGW', 'CDG', 'OTP', 'MXP', 'PRG', 'BIO', 'FCO', 'LEI', 'ALC', 'TNG', 'LYS', 'ATH', 'TLV', 'GVA', 'ABZ', 'GIB', 'SSH', 'STN', 'SZG', 'BSL', 'LJU', 'BRS', 'NCE', 'DTM', 'SXF', 'CMN', 'FNC', 'AJA', 'ACE', 'BDS', 'GNB', 'SOF', 'VCE', 'LCA', 'KRK', 'INV', 'VIE', 'LIS', 'BHX', 'CIA', 'MUC', 'TLL', 'RAK', 'CTA', 'GOT', 'MAD', 'ZRH', 'BIQ', 'ARN', 'HEL', 'MAN', 'HAM', 'LXR', 'NCL', 'OLB', 'BRI', 'CGN', 'BCN', 'SUF', 'BIA', 'AGP', 'BES', 'BOH', 'LPA', 'LIN', 'MRS', 'IOM', 'NAP', 'CPH', 'FUE', 'BUD', 'OVD', 'HRG', 'SKG', 'OPO', 'CAG', 'PMO', 'TLS', 'PMI', 'BRU', 'INN', 'BHD', 'FEZ', 'DUS', 'LTN', 'GLA'}\n"
     ]
    }
   ],
   "source": [
    "print(len(existed_airports_set))\n",
    "print(existed_airports_set)"
   ]
  },
  {
   "cell_type": "code",
   "execution_count": 13,
   "metadata": {
    "collapsed": true
   },
   "outputs": [],
   "source": [
    "existed_airports = airports[airports['id'].isin(existed_airports_set)]"
   ]
  },
  {
   "cell_type": "code",
   "execution_count": 14,
   "metadata": {},
   "outputs": [
    {
     "name": "stdout",
     "output_type": "stream",
     "text": [
      "106\n",
      "['BRU' 'SXF' 'HAM' 'CGN' 'DUS' 'MUC' 'DTM' 'TLL' 'HEL' 'BFS' 'BHD' 'BHX'\n",
      " 'MAN' 'BRS' 'LPL' 'LTN' 'BOH' 'JER' 'LGW' 'LBA' 'IOM' 'NCL' 'ABZ' 'INV'\n",
      " 'GLA' 'EDI' 'STN' 'AMS' 'CPH' 'KRK' 'GOT' 'ARN' 'FUE' 'LPA' 'ACE' 'TFS'\n",
      " 'AGA' 'FEZ' 'CMN' 'RAK' 'TNG' 'HRG' 'LXR' 'SOF' 'LCA' 'PFO' 'ZAG' 'ALC'\n",
      " 'LEI' 'OVD' 'BIO' 'BCN' 'MJV' 'MAD' 'AGP' 'VLC' 'BOD' 'TLS' 'BIQ' 'BIA'\n",
      " 'AJA' 'LYS' 'GNB' 'MRS' 'NCE' 'MPL' 'CDG' 'ORY' 'BES' 'NTE' 'SKG' 'BUD'\n",
      " 'BRI' 'BDS' 'SUF' 'CTA' 'PMO' 'CAG' 'OLB' 'MXP' 'LIN' 'VCE' 'CIA' 'FCO'\n",
      " 'NAP' 'PSA' 'LJU' 'PRG' 'TLV' 'MLA' 'INN' 'SZG' 'VIE' 'FAO' 'OPO' 'LIS'\n",
      " 'OTP' 'GVA' 'ZRH' 'GIB' 'ATH' 'PMI' 'BSL' 'SSH' 'FNC' 'SAW']\n"
     ]
    }
   ],
   "source": [
    "print(len(existed_airports))\n",
    "print(existed_airports['id'].values)"
   ]
  },
  {
   "cell_type": "code",
   "execution_count": 15,
   "metadata": {
    "collapsed": true
   },
   "outputs": [],
   "source": [
    "existed_airports.to_csv('./existed_airports_ez.csv')"
   ]
  },
  {
   "cell_type": "code",
   "execution_count": 16,
   "metadata": {
    "collapsed": true
   },
   "outputs": [],
   "source": [
    "tmp = 0\n"
   ]
  },
  {
   "cell_type": "code",
   "execution_count": 17,
   "metadata": {},
   "outputs": [
    {
     "name": "stdout",
     "output_type": "stream",
     "text": [
      "1\n",
      "1\n",
      "1\n",
      "1\n",
      "1\n",
      "1\n",
      "1\n",
      "1\n",
      "1\n",
      "1\n",
      "1\n",
      "1\n",
      "1\n",
      "1\n",
      "1\n",
      "1\n",
      "1\n",
      "1\n",
      "1\n",
      "1\n",
      "1\n",
      "1\n",
      "1\n",
      "1\n",
      "1\n",
      "1\n",
      "1\n",
      "1\n",
      "1\n",
      "1\n",
      "1\n",
      "1\n",
      "1\n",
      "1\n",
      "1\n",
      "1\n",
      "1\n",
      "1\n",
      "1\n",
      "1\n",
      "1\n",
      "1\n",
      "1\n",
      "1\n",
      "1\n",
      "1\n",
      "1\n",
      "1\n",
      "1\n",
      "1\n",
      "1\n",
      "1\n",
      "1\n",
      "1\n",
      "1\n",
      "1\n",
      "1\n",
      "1\n",
      "1\n",
      "1\n",
      "1\n",
      "1\n",
      "1\n",
      "1\n",
      "1\n",
      "1\n",
      "1\n",
      "1\n",
      "1\n",
      "1\n",
      "1\n",
      "1\n",
      "1\n",
      "1\n",
      "1\n",
      "1\n",
      "1\n",
      "1\n",
      "1\n",
      "1\n",
      "1\n",
      "1\n",
      "1\n",
      "1\n",
      "1\n",
      "1\n",
      "1\n",
      "1\n",
      "1\n",
      "1\n",
      "1\n",
      "1\n",
      "1\n",
      "1\n",
      "1\n",
      "1\n",
      "1\n",
      "1\n",
      "1\n",
      "1\n",
      "1\n",
      "1\n",
      "1\n",
      "1\n",
      "1\n",
      "1\n"
     ]
    }
   ],
   "source": [
    "for ida in existed_airports_set:\n",
    "#     print(ida)\n",
    "#     tmp = tmp+1\n",
    "#     print(tmp)\n",
    "    if ida in existed_airports[['id']].values:\n",
    "        print('1')\n",
    "    else:\n",
    "        print(ida)"
   ]
  },
  {
   "cell_type": "code",
   "execution_count": null,
   "metadata": {
    "collapsed": true
   },
   "outputs": [],
   "source": []
  }
 ],
 "metadata": {
  "kernelspec": {
   "display_name": "Python 3",
   "language": "python",
   "name": "python3"
  },
  "language_info": {
   "codemirror_mode": {
    "name": "ipython",
    "version": 3
   },
   "file_extension": ".py",
   "mimetype": "text/x-python",
   "name": "python",
   "nbconvert_exporter": "python",
   "pygments_lexer": "ipython3",
   "version": "3.6.2"
  }
 },
 "nbformat": 4,
 "nbformat_minor": 2
}
