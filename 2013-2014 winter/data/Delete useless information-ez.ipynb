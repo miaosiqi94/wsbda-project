{
 "cells": [
  {
   "cell_type": "code",
   "execution_count": 1,
   "metadata": {
    "collapsed": true
   },
   "outputs": [],
   "source": [
    "import numpy as np"
   ]
  },
  {
   "cell_type": "code",
   "execution_count": 2,
   "metadata": {
    "collapsed": true
   },
   "outputs": [],
   "source": [
    "import pandas as pd"
   ]
  },
  {
   "cell_type": "code",
   "execution_count": 3,
   "metadata": {
    "collapsed": true
   },
   "outputs": [],
   "source": [
    "import math\n",
    "from ipykernel import kernelapp as app\n",
    "import sys\n",
    "import seaborn as sns"
   ]
  },
  {
   "cell_type": "code",
   "execution_count": 4,
   "metadata": {
    "collapsed": true
   },
   "outputs": [],
   "source": [
    "data = pd.read_csv('easyjet.csv')"
   ]
  },
  {
   "cell_type": "code",
   "execution_count": 5,
   "metadata": {},
   "outputs": [
    {
     "data": {
      "text/html": [
       "<div>\n",
       "<style>\n",
       "    .dataframe thead tr:only-child th {\n",
       "        text-align: right;\n",
       "    }\n",
       "\n",
       "    .dataframe thead th {\n",
       "        text-align: left;\n",
       "    }\n",
       "\n",
       "    .dataframe tbody tr th {\n",
       "        vertical-align: top;\n",
       "    }\n",
       "</style>\n",
       "<table border=\"1\" class=\"dataframe\">\n",
       "  <thead>\n",
       "    <tr style=\"text-align: right;\">\n",
       "      <th></th>\n",
       "      <th>Source</th>\n",
       "      <th>Target</th>\n",
       "    </tr>\n",
       "  </thead>\n",
       "  <tbody>\n",
       "    <tr>\n",
       "      <th>0</th>\n",
       "      <td>ABZ</td>\n",
       "      <td>LGW</td>\n",
       "    </tr>\n",
       "    <tr>\n",
       "      <th>1</th>\n",
       "      <td>ABZ</td>\n",
       "      <td>LTN</td>\n",
       "    </tr>\n",
       "    <tr>\n",
       "      <th>2</th>\n",
       "      <td>ACE</td>\n",
       "      <td>LGW</td>\n",
       "    </tr>\n",
       "    <tr>\n",
       "      <th>3</th>\n",
       "      <td>ACE</td>\n",
       "      <td>LPL</td>\n",
       "    </tr>\n",
       "    <tr>\n",
       "      <th>4</th>\n",
       "      <td>ADB</td>\n",
       "      <td>LGW</td>\n",
       "    </tr>\n",
       "  </tbody>\n",
       "</table>\n",
       "</div>"
      ],
      "text/plain": [
       "  Source Target\n",
       "0    ABZ    LGW\n",
       "1    ABZ    LTN\n",
       "2    ACE    LGW\n",
       "3    ACE    LPL\n",
       "4    ADB    LGW"
      ]
     },
     "execution_count": 5,
     "metadata": {},
     "output_type": "execute_result"
    }
   ],
   "source": [
    "data.head()"
   ]
  },
  {
   "cell_type": "code",
   "execution_count": 6,
   "metadata": {
    "collapsed": true
   },
   "outputs": [],
   "source": [
    "airports=pd.read_csv('airportscsv.csv')"
   ]
  },
  {
   "cell_type": "code",
   "execution_count": 7,
   "metadata": {},
   "outputs": [
    {
     "data": {
      "text/plain": [
       "False"
      ]
     },
     "execution_count": 7,
     "metadata": {},
     "output_type": "execute_result"
    }
   ],
   "source": [
    "'ZAZ' in data.Source.values"
   ]
  },
  {
   "cell_type": "code",
   "execution_count": 8,
   "metadata": {},
   "outputs": [
    {
     "data": {
      "text/html": [
       "<div>\n",
       "<style>\n",
       "    .dataframe thead tr:only-child th {\n",
       "        text-align: right;\n",
       "    }\n",
       "\n",
       "    .dataframe thead th {\n",
       "        text-align: left;\n",
       "    }\n",
       "\n",
       "    .dataframe tbody tr th {\n",
       "        vertical-align: top;\n",
       "    }\n",
       "</style>\n",
       "<table border=\"1\" class=\"dataframe\">\n",
       "  <thead>\n",
       "    <tr style=\"text-align: right;\">\n",
       "      <th></th>\n",
       "      <th>id</th>\n",
       "      <th>Latitude</th>\n",
       "      <th>Longitude</th>\n",
       "    </tr>\n",
       "  </thead>\n",
       "  <tbody>\n",
       "    <tr>\n",
       "      <th>0</th>\n",
       "      <td>GKA</td>\n",
       "      <td>-6.081689</td>\n",
       "      <td>145.391881</td>\n",
       "    </tr>\n",
       "    <tr>\n",
       "      <th>1</th>\n",
       "      <td>MAG</td>\n",
       "      <td>-5.207083</td>\n",
       "      <td>145.788700</td>\n",
       "    </tr>\n",
       "    <tr>\n",
       "      <th>2</th>\n",
       "      <td>HGU</td>\n",
       "      <td>-5.826789</td>\n",
       "      <td>144.295861</td>\n",
       "    </tr>\n",
       "    <tr>\n",
       "      <th>3</th>\n",
       "      <td>LAE</td>\n",
       "      <td>-6.569828</td>\n",
       "      <td>146.726242</td>\n",
       "    </tr>\n",
       "    <tr>\n",
       "      <th>4</th>\n",
       "      <td>POM</td>\n",
       "      <td>-9.443383</td>\n",
       "      <td>147.220050</td>\n",
       "    </tr>\n",
       "  </tbody>\n",
       "</table>\n",
       "</div>"
      ],
      "text/plain": [
       "    id  Latitude   Longitude\n",
       "0  GKA -6.081689  145.391881\n",
       "1  MAG -5.207083  145.788700\n",
       "2  HGU -5.826789  144.295861\n",
       "3  LAE -6.569828  146.726242\n",
       "4  POM -9.443383  147.220050"
      ]
     },
     "execution_count": 8,
     "metadata": {},
     "output_type": "execute_result"
    }
   ],
   "source": [
    "airports.head()"
   ]
  },
  {
   "cell_type": "code",
   "execution_count": 9,
   "metadata": {
    "collapsed": true
   },
   "outputs": [],
   "source": [
    "def airport_id_exist(airport):\n",
    "    if airport['id'] in data.Source.values:\n",
    "        #  or airport['id'] in data.Target.values\n",
    "        return True\n",
    "    else:\n",
    "        return False"
   ]
  },
  {
   "cell_type": "code",
   "execution_count": 10,
   "metadata": {},
   "outputs": [
    {
     "data": {
      "text/plain": [
       "list"
      ]
     },
     "execution_count": 10,
     "metadata": {},
     "output_type": "execute_result"
    }
   ],
   "source": [
    "type(data.Source.values.tolist())"
   ]
  },
  {
   "cell_type": "code",
   "execution_count": null,
   "metadata": {
    "collapsed": true
   },
   "outputs": [],
   "source": []
  },
  {
   "cell_type": "code",
   "execution_count": 11,
   "metadata": {
    "collapsed": true
   },
   "outputs": [],
   "source": [
    "existed_airports_set = set(data.Source.values.tolist() + data.Target.values.tolist())"
   ]
  },
  {
   "cell_type": "code",
   "execution_count": 12,
   "metadata": {},
   "outputs": [
    {
     "name": "stdout",
     "output_type": "stream",
     "text": [
      "132\n",
      "{'TLS', 'BIQ', 'LIS', 'LYS', 'IOM', 'SOF', 'LEI', 'BIA', 'KGS', 'NAP', 'BIO', 'CAG', 'VIE', 'BRI', 'ARN', 'EDI', 'SXF', 'LTN', 'CPH', 'TLV', 'HAM', 'BEG', 'ZAG', 'EFL', 'NQY', 'CFU', 'LRH', 'ATH', 'DUS', 'LIL', 'MAD', 'BSL', 'BCN', 'BFS', 'TNG', 'BES', 'MAN', 'LXR', 'DTM', 'JMK', 'STN', 'FNC', 'BUD', 'CTA', 'PFO', 'FAO', 'AJA', 'HRG', 'CMN', 'BRS', 'VCE', 'DLM', 'FCO', 'ZTH', 'OLB', 'RAK', 'KEF', 'IBZ', 'FEZ', 'BDS', 'FUE', 'MUC', 'KRK', 'DME', 'INV', 'PMI', 'PRN', 'VRN', 'LPA', 'AHO', 'AGA', 'DBV', 'MXP', 'SSH', 'GLA', 'DRS', 'BHX', 'GIB', 'AGP', 'LIN', 'NCE', 'SUF', 'BJV', 'AMS', 'OVD', 'RHO', 'GVA', 'BOD', 'OPO', 'JER', 'MPL', 'NCL', 'LJU', 'AMM', 'LUX', 'TLL', 'PRG', 'BRU', 'MJV', 'SKG', 'SVQ', 'NTE', 'PSA', 'BGO', 'LCA', 'VLC', 'CHQ', 'MAH', 'SEN', 'KLX', 'CDG', 'SPU', 'ABZ', 'AYT', 'SCQ', 'BLQ', 'LPL', 'SAW', 'ZRH', 'PMO', 'MRS', 'ALC', 'LGW', 'ACE', 'HER', 'MLA', 'ORY', 'CGN', 'ADB', 'TFS', 'INN', 'JTR'}\n"
     ]
    }
   ],
   "source": [
    "print(len(existed_airports_set))\n",
    "print(existed_airports_set)"
   ]
  },
  {
   "cell_type": "code",
   "execution_count": 13,
   "metadata": {
    "collapsed": true
   },
   "outputs": [],
   "source": [
    "existed_airports = airports[airports['id'].isin(existed_airports_set)]"
   ]
  },
  {
   "cell_type": "code",
   "execution_count": 14,
   "metadata": {},
   "outputs": [
    {
     "name": "stdout",
     "output_type": "stream",
     "text": [
      "132\n",
      "['KEF' 'BRU' 'SXF' 'DRS' 'HAM' 'CGN' 'DUS' 'MUC' 'DTM' 'TLL' 'BFS' 'BHX'\n",
      " 'MAN' 'NQY' 'BRS' 'LPL' 'LTN' 'JER' 'LGW' 'SEN' 'IOM' 'NCL' 'ABZ' 'INV'\n",
      " 'GLA' 'EDI' 'STN' 'AMS' 'CPH' 'LUX' 'BGO' 'KRK' 'ARN' 'FUE' 'LPA' 'ACE'\n",
      " 'TFS' 'AGA' 'FEZ' 'CMN' 'RAK' 'TNG' 'HRG' 'LXR' 'SOF' 'LCA' 'PFO' 'DBV'\n",
      " 'SPU' 'ZAG' 'ALC' 'LEI' 'OVD' 'BIO' 'BCN' 'IBZ' 'MJV' 'MAD' 'AGP' 'MAH'\n",
      " 'SCQ' 'VLC' 'SVQ' 'BOD' 'TLS' 'BIQ' 'BIA' 'AJA' 'LYS' 'MRS' 'NCE' 'MPL'\n",
      " 'CDG' 'ORY' 'LIL' 'BES' 'NTE' 'HER' 'EFL' 'KLX' 'KGS' 'CFU' 'JMK' 'RHO'\n",
      " 'CHQ' 'JTR' 'SKG' 'ZTH' 'BUD' 'BRI' 'BDS' 'SUF' 'CTA' 'PMO' 'AHO' 'CAG'\n",
      " 'OLB' 'MXP' 'LIN' 'BLQ' 'VRN' 'VCE' 'FCO' 'NAP' 'PSA' 'LJU' 'PRG' 'TLV'\n",
      " 'MLA' 'INN' 'VIE' 'FAO' 'OPO' 'LIS' 'GVA' 'ZRH' 'AYT' 'ADB' 'DLM' 'GIB'\n",
      " 'BEG' 'PRN' 'AMM' 'ATH' 'PMI' 'DME' 'BSL' 'SSH' 'FNC' 'BJV' 'SAW' 'LRH']\n"
     ]
    }
   ],
   "source": [
    "print(len(existed_airports))\n",
    "print(existed_airports['id'].values)"
   ]
  },
  {
   "cell_type": "code",
   "execution_count": 15,
   "metadata": {
    "collapsed": true
   },
   "outputs": [],
   "source": [
    "existed_airports.to_csv('./existed_airports_ez.csv')"
   ]
  },
  {
   "cell_type": "code",
   "execution_count": 16,
   "metadata": {
    "collapsed": true
   },
   "outputs": [],
   "source": [
    "tmp = 0\n"
   ]
  },
  {
   "cell_type": "code",
   "execution_count": 17,
   "metadata": {},
   "outputs": [
    {
     "name": "stdout",
     "output_type": "stream",
     "text": [
      "1\n",
      "1\n",
      "1\n",
      "1\n",
      "1\n",
      "1\n",
      "1\n",
      "1\n",
      "1\n",
      "1\n",
      "1\n",
      "1\n",
      "1\n",
      "1\n",
      "1\n",
      "1\n",
      "1\n",
      "1\n",
      "1\n",
      "1\n",
      "1\n",
      "1\n",
      "1\n",
      "1\n",
      "1\n",
      "1\n",
      "1\n",
      "1\n",
      "1\n",
      "1\n",
      "1\n",
      "1\n",
      "1\n",
      "1\n",
      "1\n",
      "1\n",
      "1\n",
      "1\n",
      "1\n",
      "1\n",
      "1\n",
      "1\n",
      "1\n",
      "1\n",
      "1\n",
      "1\n",
      "1\n",
      "1\n",
      "1\n",
      "1\n",
      "1\n",
      "1\n",
      "1\n",
      "1\n",
      "1\n",
      "1\n",
      "1\n",
      "1\n",
      "1\n",
      "1\n",
      "1\n",
      "1\n",
      "1\n",
      "1\n",
      "1\n",
      "1\n",
      "1\n",
      "1\n",
      "1\n",
      "1\n",
      "1\n",
      "1\n",
      "1\n",
      "1\n",
      "1\n",
      "1\n",
      "1\n",
      "1\n",
      "1\n",
      "1\n",
      "1\n",
      "1\n",
      "1\n",
      "1\n",
      "1\n",
      "1\n",
      "1\n",
      "1\n",
      "1\n",
      "1\n",
      "1\n",
      "1\n",
      "1\n",
      "1\n",
      "1\n",
      "1\n",
      "1\n",
      "1\n",
      "1\n",
      "1\n",
      "1\n",
      "1\n",
      "1\n",
      "1\n",
      "1\n",
      "1\n",
      "1\n",
      "1\n",
      "1\n",
      "1\n",
      "1\n",
      "1\n",
      "1\n",
      "1\n",
      "1\n",
      "1\n",
      "1\n",
      "1\n",
      "1\n",
      "1\n",
      "1\n",
      "1\n",
      "1\n",
      "1\n",
      "1\n",
      "1\n",
      "1\n",
      "1\n",
      "1\n",
      "1\n",
      "1\n",
      "1\n"
     ]
    }
   ],
   "source": [
    "for ida in existed_airports_set:\n",
    "#     print(ida)\n",
    "#     tmp = tmp+1\n",
    "#     print(tmp)\n",
    "    if ida in existed_airports[['id']].values:\n",
    "        print('1')\n",
    "    else:\n",
    "        print(ida)"
   ]
  },
  {
   "cell_type": "code",
   "execution_count": null,
   "metadata": {
    "collapsed": true
   },
   "outputs": [],
   "source": []
  },
  {
   "cell_type": "code",
   "execution_count": null,
   "metadata": {
    "collapsed": true
   },
   "outputs": [],
   "source": []
  }
 ],
 "metadata": {
  "kernelspec": {
   "display_name": "Python 3",
   "language": "python",
   "name": "python3"
  },
  "language_info": {
   "codemirror_mode": {
    "name": "ipython",
    "version": 3
   },
   "file_extension": ".py",
   "mimetype": "text/x-python",
   "name": "python",
   "nbconvert_exporter": "python",
   "pygments_lexer": "ipython3",
   "version": "3.6.2"
  }
 },
 "nbformat": 4,
 "nbformat_minor": 2
}
