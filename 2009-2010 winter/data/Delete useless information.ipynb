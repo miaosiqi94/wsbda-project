{
 "cells": [
  {
   "cell_type": "code",
   "execution_count": 1,
   "metadata": {
    "collapsed": true
   },
   "outputs": [],
   "source": [
    "import numpy as np"
   ]
  },
  {
   "cell_type": "code",
   "execution_count": 2,
   "metadata": {
    "collapsed": true
   },
   "outputs": [],
   "source": [
    "import pandas as pd"
   ]
  },
  {
   "cell_type": "code",
   "execution_count": 3,
   "metadata": {
    "collapsed": true
   },
   "outputs": [],
   "source": [
    "import math\n",
    "from ipykernel import kernelapp as app\n",
    "import sys\n",
    "import seaborn as sns"
   ]
  },
  {
   "cell_type": "code",
   "execution_count": 4,
   "metadata": {
    "collapsed": true
   },
   "outputs": [],
   "source": [
    "data = pd.read_csv('ryanair.csv')"
   ]
  },
  {
   "cell_type": "code",
   "execution_count": 5,
   "metadata": {},
   "outputs": [
    {
     "data": {
      "text/html": [
       "<div>\n",
       "<style>\n",
       "    .dataframe thead tr:only-child th {\n",
       "        text-align: right;\n",
       "    }\n",
       "\n",
       "    .dataframe thead th {\n",
       "        text-align: left;\n",
       "    }\n",
       "\n",
       "    .dataframe tbody tr th {\n",
       "        vertical-align: top;\n",
       "    }\n",
       "</style>\n",
       "<table border=\"1\" class=\"dataframe\">\n",
       "  <thead>\n",
       "    <tr style=\"text-align: right;\">\n",
       "      <th></th>\n",
       "      <th>Source</th>\n",
       "      <th>Target</th>\n",
       "    </tr>\n",
       "  </thead>\n",
       "  <tbody>\n",
       "    <tr>\n",
       "      <th>0</th>\n",
       "      <td>AAR</td>\n",
       "      <td>STN</td>\n",
       "    </tr>\n",
       "    <tr>\n",
       "      <th>1</th>\n",
       "      <td>ABZ</td>\n",
       "      <td>DUB</td>\n",
       "    </tr>\n",
       "    <tr>\n",
       "      <th>2</th>\n",
       "      <td>ACE</td>\n",
       "      <td>BHX</td>\n",
       "    </tr>\n",
       "    <tr>\n",
       "      <th>3</th>\n",
       "      <td>ACE</td>\n",
       "      <td>BOH</td>\n",
       "    </tr>\n",
       "    <tr>\n",
       "      <th>4</th>\n",
       "      <td>ACE</td>\n",
       "      <td>BRS</td>\n",
       "    </tr>\n",
       "  </tbody>\n",
       "</table>\n",
       "</div>"
      ],
      "text/plain": [
       "  Source Target\n",
       "0    AAR    STN\n",
       "1    ABZ    DUB\n",
       "2    ACE    BHX\n",
       "3    ACE    BOH\n",
       "4    ACE    BRS"
      ]
     },
     "execution_count": 5,
     "metadata": {},
     "output_type": "execute_result"
    }
   ],
   "source": [
    "data.head()"
   ]
  },
  {
   "cell_type": "code",
   "execution_count": 6,
   "metadata": {
    "collapsed": true
   },
   "outputs": [],
   "source": [
    "airports=pd.read_csv('airportscsv.csv')"
   ]
  },
  {
   "cell_type": "code",
   "execution_count": 7,
   "metadata": {},
   "outputs": [
    {
     "data": {
      "text/plain": [
       "True"
      ]
     },
     "execution_count": 7,
     "metadata": {},
     "output_type": "execute_result"
    }
   ],
   "source": [
    "'ZAZ' in data.Source.values"
   ]
  },
  {
   "cell_type": "code",
   "execution_count": 8,
   "metadata": {},
   "outputs": [
    {
     "data": {
      "text/html": [
       "<div>\n",
       "<style>\n",
       "    .dataframe thead tr:only-child th {\n",
       "        text-align: right;\n",
       "    }\n",
       "\n",
       "    .dataframe thead th {\n",
       "        text-align: left;\n",
       "    }\n",
       "\n",
       "    .dataframe tbody tr th {\n",
       "        vertical-align: top;\n",
       "    }\n",
       "</style>\n",
       "<table border=\"1\" class=\"dataframe\">\n",
       "  <thead>\n",
       "    <tr style=\"text-align: right;\">\n",
       "      <th></th>\n",
       "      <th>id</th>\n",
       "      <th>Latitude</th>\n",
       "      <th>Longitude</th>\n",
       "    </tr>\n",
       "  </thead>\n",
       "  <tbody>\n",
       "    <tr>\n",
       "      <th>0</th>\n",
       "      <td>GKA</td>\n",
       "      <td>-6.081689</td>\n",
       "      <td>145.391881</td>\n",
       "    </tr>\n",
       "    <tr>\n",
       "      <th>1</th>\n",
       "      <td>MAG</td>\n",
       "      <td>-5.207083</td>\n",
       "      <td>145.788700</td>\n",
       "    </tr>\n",
       "    <tr>\n",
       "      <th>2</th>\n",
       "      <td>HGU</td>\n",
       "      <td>-5.826789</td>\n",
       "      <td>144.295861</td>\n",
       "    </tr>\n",
       "    <tr>\n",
       "      <th>3</th>\n",
       "      <td>LAE</td>\n",
       "      <td>-6.569828</td>\n",
       "      <td>146.726242</td>\n",
       "    </tr>\n",
       "    <tr>\n",
       "      <th>4</th>\n",
       "      <td>POM</td>\n",
       "      <td>-9.443383</td>\n",
       "      <td>147.220050</td>\n",
       "    </tr>\n",
       "  </tbody>\n",
       "</table>\n",
       "</div>"
      ],
      "text/plain": [
       "    id  Latitude   Longitude\n",
       "0  GKA -6.081689  145.391881\n",
       "1  MAG -5.207083  145.788700\n",
       "2  HGU -5.826789  144.295861\n",
       "3  LAE -6.569828  146.726242\n",
       "4  POM -9.443383  147.220050"
      ]
     },
     "execution_count": 8,
     "metadata": {},
     "output_type": "execute_result"
    }
   ],
   "source": [
    "airports.head()"
   ]
  },
  {
   "cell_type": "code",
   "execution_count": 9,
   "metadata": {
    "collapsed": true
   },
   "outputs": [],
   "source": [
    "def airport_id_exist(airport):\n",
    "    if airport['id'] in data.Source.values:\n",
    "        #  or airport['id'] in data.Target.values\n",
    "        return True\n",
    "    else:\n",
    "        return False"
   ]
  },
  {
   "cell_type": "code",
   "execution_count": 10,
   "metadata": {},
   "outputs": [
    {
     "data": {
      "text/plain": [
       "list"
      ]
     },
     "execution_count": 10,
     "metadata": {},
     "output_type": "execute_result"
    }
   ],
   "source": [
    "type(data.Source.values.tolist())"
   ]
  },
  {
   "cell_type": "code",
   "execution_count": null,
   "metadata": {
    "collapsed": true
   },
   "outputs": [],
   "source": []
  },
  {
   "cell_type": "code",
   "execution_count": 11,
   "metadata": {
    "collapsed": true
   },
   "outputs": [],
   "source": [
    "existed_airports_set = set(data.Source.values.tolist() + data.Target.values.tolist())"
   ]
  },
  {
   "cell_type": "code",
   "execution_count": 12,
   "metadata": {},
   "outputs": [
    {
     "name": "stdout",
     "output_type": "stream",
     "text": [
      "135\n",
      "{'TRS', 'VST', 'DNR', 'LDY', 'RMI', 'VLC', 'VBS', 'BTS', 'RDZ', 'TNG', 'TUF', 'KUN', 'GRX', 'LCJ', 'GRZ', 'SZZ', 'PSA', 'BRS', 'SDR', 'HAU', 'NDR', 'LPL', 'BUD', 'RZE', 'TFS', 'PMF', 'AOI', 'BZR', 'LIL', 'REU', 'BSL', 'BZG', 'LGW', 'HHN', 'TRN', 'LEI', 'BGY', 'BDS', 'AGP', 'KRK', 'MAD', 'CAG', 'NOC', 'PGF', 'LRH', 'GRO', 'EIN', 'AOC', 'FNI', 'SZG', 'POZ', 'BES', 'GDN', 'PEG', 'NYO', 'CND', 'GOA', 'TSF', 'EBU', 'RYG', 'PMO', 'VXO', 'BVA', 'SCQ', 'SVQ', 'SUF', 'AHO', 'AGA', 'LTN', 'LBC', 'EMA', 'NCL', 'DUB', 'MLA', 'ORK', 'PUF', 'BLQ', 'CRL', 'FEZ', 'FAO', 'BOH', 'VLL', 'LPA', 'NTE', 'LIG', 'GSE', 'IBZ', 'KTW', 'ALC', 'SXF', 'KLU', 'CIA', 'BLL', 'PIS', 'TMP', 'MPL', 'RIX', 'ZAZ', 'MST', 'BRQ', 'AAR', 'ABZ', 'OPO', 'EDI', 'PMI', 'CUF', 'KIR', 'BRI', 'TPS', 'XRY', 'PRG', 'EGC', 'LNZ', 'LBA', 'PIK', 'PSR', 'RAK', 'CCF', 'WRO', 'NRN', 'BIQ', 'MJV', 'BRE', 'BHX', 'FKB', 'MAN', 'ACE', 'TRF', 'BHD', 'MRS', 'FSC', 'FDH', 'FMM', 'SNN', 'STN'}\n"
     ]
    }
   ],
   "source": [
    "print(len(existed_airports_set))\n",
    "print(existed_airports_set)"
   ]
  },
  {
   "cell_type": "code",
   "execution_count": 13,
   "metadata": {
    "collapsed": true
   },
   "outputs": [],
   "source": [
    "existed_airports = airports[airports['id'].isin(existed_airports_set)]"
   ]
  },
  {
   "cell_type": "code",
   "execution_count": 14,
   "metadata": {},
   "outputs": [
    {
     "name": "stdout",
     "output_type": "stream",
     "text": [
      "134\n",
      "['CRL' 'AOC' 'SXF' 'BRE' 'HHN' 'LBC' 'FDH' 'TMP' 'BHD' 'LDY' 'BHX' 'MAN'\n",
      " 'BRS' 'LPL' 'LTN' 'BOH' 'LGW' 'LBA' 'NCL' 'EMA' 'ABZ' 'EDI' 'PIK' 'STN'\n",
      " 'MST' 'EIN' 'ORK' 'DUB' 'NOC' 'KIR' 'SNN' 'AAR' 'BLL' 'HAU' 'TRF' 'GDN'\n",
      " 'KRK' 'KTW' 'POZ' 'RZE' 'SZZ' 'WRO' 'GSE' 'NYO' 'VXO' 'VST' 'LPA' 'ACE'\n",
      " 'TFS' 'AGA' 'FEZ' 'RAK' 'TNG' 'ALC' 'LEI' 'GRO' 'GRX' 'IBZ' 'XRY' 'MJV'\n",
      " 'MAD' 'AGP' 'REU' 'SCQ' 'VLC' 'VLL' 'SDR' 'ZAZ' 'SVQ' 'EGC' 'PIS' 'LIG'\n",
      " 'PUF' 'BIQ' 'RDZ' 'FSC' 'EBU' 'CCF' 'MRS' 'PGF' 'MPL' 'BZR' 'BVA' 'TUF'\n",
      " 'LIL' 'BES' 'DNR' 'NTE' 'FNI' 'BUD' 'BRI' 'PSR' 'BDS' 'SUF' 'PMO' 'TPS'\n",
      " 'AHO' 'CAG' 'BGY' 'TRN' 'GOA' 'PMF' 'CUF' 'BLQ' 'TSF' 'VBS' 'TRS' 'RMI'\n",
      " 'CIA' 'PSA' 'PEG' 'PRG' 'BRQ' 'MLA' 'GRZ' 'LNZ' 'SZG' 'FAO' 'OPO' 'CND'\n",
      " 'BTS' 'RIX' 'KUN' 'FMM' 'PMI' 'BSL' 'FKB' 'NRN' 'AOI' 'KLU' 'NDR' 'LCJ'\n",
      " 'BZG' 'LRH']\n"
     ]
    }
   ],
   "source": [
    "print(len(existed_airports))\n",
    "print(existed_airports['id'].values)"
   ]
  },
  {
   "cell_type": "code",
   "execution_count": 15,
   "metadata": {
    "collapsed": true
   },
   "outputs": [],
   "source": [
    "existed_airports.to_csv('./existed_airports.csv')"
   ]
  },
  {
   "cell_type": "code",
   "execution_count": 16,
   "metadata": {
    "collapsed": true
   },
   "outputs": [],
   "source": [
    "tmp = 0\n"
   ]
  },
  {
   "cell_type": "code",
   "execution_count": 17,
   "metadata": {},
   "outputs": [
    {
     "name": "stdout",
     "output_type": "stream",
     "text": [
      "1\n",
      "1\n",
      "1\n",
      "1\n",
      "1\n",
      "1\n",
      "1\n",
      "1\n",
      "1\n",
      "1\n",
      "1\n",
      "1\n",
      "1\n",
      "1\n",
      "1\n",
      "1\n",
      "1\n",
      "1\n",
      "1\n",
      "1\n",
      "1\n",
      "1\n",
      "1\n",
      "1\n",
      "1\n",
      "1\n",
      "1\n",
      "1\n",
      "1\n",
      "1\n",
      "1\n",
      "1\n",
      "1\n",
      "1\n",
      "1\n",
      "1\n",
      "1\n",
      "1\n",
      "1\n",
      "1\n",
      "1\n",
      "1\n",
      "1\n",
      "1\n",
      "1\n",
      "1\n",
      "1\n",
      "1\n",
      "1\n",
      "1\n",
      "1\n",
      "1\n",
      "1\n",
      "1\n",
      "1\n",
      "1\n",
      "1\n",
      "1\n",
      "1\n",
      "RYG\n",
      "1\n",
      "1\n",
      "1\n",
      "1\n",
      "1\n",
      "1\n",
      "1\n",
      "1\n",
      "1\n",
      "1\n",
      "1\n",
      "1\n",
      "1\n",
      "1\n",
      "1\n",
      "1\n",
      "1\n",
      "1\n",
      "1\n",
      "1\n",
      "1\n",
      "1\n",
      "1\n",
      "1\n",
      "1\n",
      "1\n",
      "1\n",
      "1\n",
      "1\n",
      "1\n",
      "1\n",
      "1\n",
      "1\n",
      "1\n",
      "1\n",
      "1\n",
      "1\n",
      "1\n",
      "1\n",
      "1\n",
      "1\n",
      "1\n",
      "1\n",
      "1\n",
      "1\n",
      "1\n",
      "1\n",
      "1\n",
      "1\n",
      "1\n",
      "1\n",
      "1\n",
      "1\n",
      "1\n",
      "1\n",
      "1\n",
      "1\n",
      "1\n",
      "1\n",
      "1\n",
      "1\n",
      "1\n",
      "1\n",
      "1\n",
      "1\n",
      "1\n",
      "1\n",
      "1\n",
      "1\n",
      "1\n",
      "1\n",
      "1\n",
      "1\n",
      "1\n",
      "1\n"
     ]
    }
   ],
   "source": [
    "for ida in existed_airports_set:\n",
    "#     print(ida)\n",
    "#     tmp = tmp+1\n",
    "#     print(tmp)\n",
    "    if ida in existed_airports[['id']].values:\n",
    "        print('1')\n",
    "    else:\n",
    "        print(ida)"
   ]
  },
  {
   "cell_type": "code",
   "execution_count": null,
   "metadata": {
    "collapsed": true
   },
   "outputs": [],
   "source": []
  }
 ],
 "metadata": {
  "kernelspec": {
   "display_name": "Python 3",
   "language": "python",
   "name": "python3"
  },
  "language_info": {
   "codemirror_mode": {
    "name": "ipython",
    "version": 3
   },
   "file_extension": ".py",
   "mimetype": "text/x-python",
   "name": "python",
   "nbconvert_exporter": "python",
   "pygments_lexer": "ipython3",
   "version": "3.6.2"
  }
 },
 "nbformat": 4,
 "nbformat_minor": 2
}
